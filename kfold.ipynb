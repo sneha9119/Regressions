{
 "cells": [
  {
   "cell_type": "markdown",
   "id": "9c4f51e9",
   "metadata": {},
   "source": [
    " **Standardiztaion (z-scoring scaling):**\n",
    " "
   ]
  },
  {
   "cell_type": "markdown",
   "id": "e7b1b45b",
   "metadata": {},
   "source": [
    "Standardization transforms the data to have a mean of 0 and a standard deviation(sigma) of 1\n",
    " Xstandardization=X-mue/sigma\n",
    " X=original feature value\n",
    " mue=mean of feature\n",
    " sigma=standardization deviation of the feature"
   ]
  },
  {
   "cell_type": "markdown",
   "id": "c997fe3c",
   "metadata": {},
   "source": [
    "**NORMALIZATION(MIN_MAX SCALING)**\n"
   ]
  },
  {
   "cell_type": "code",
   "execution_count": null,
   "id": "b6464b05",
   "metadata": {},
   "outputs": [],
   "source": [
    "Mormalisation transforms data into fixed range typically[0,1] or [-1,1]\n",
    "Xnormalized=X_Xmin/Xmax-Xmin\n",
    "X=original feature value\n",
    "Xmin=Minimumn value in feature\n",
    "Xmax=Maximum value in the feature"
   ]
  },
  {
   "cell_type": "markdown",
   "id": "67ad2ed2",
   "metadata": {},
   "source": [
    "**CROSS VALIDATION**\n"
   ]
  },
  {
   "cell_type": "code",
   "execution_count": null,
   "id": "d27d3a29",
   "metadata": {},
   "outputs": [],
   "source": [
    "it is a technique used to evaluate the performance of machine learning model by splitting the datasets into multiple subsets for training and testing.\n",
    "USED FOR\n",
    "avoiding overfitting\n",
    "ensures that the model generalizes well to unseen data\n",
    "evaluating on different subsets\n",
    "more reliable performances estimatio"
   ]
  },
  {
   "cell_type": "markdown",
   "id": "dfbb682e",
   "metadata": {},
   "source": [
    "**K-FOLD CROSS VALIDATION**\n"
   ]
  },
  {
   "cell_type": "raw",
   "id": "5c64fe27",
   "metadata": {},
   "source": [
    "split the datasets into k-equal sized folds\n",
    "Train the model on k-1 folds on test on the remaining fold\n",
    "repeat the process k times ,each time using a different fold as the test set\n",
    "Compute the average performance across all k iterations\n"
   ]
  },
  {
   "cell_type": "code",
   "execution_count": 1,
   "id": "e6746966",
   "metadata": {},
   "outputs": [],
   "source": [
    "from sklearn.model_selection import KFold,cross_val_score\n",
    "from sklearn.linear_model import LinearRegression\n",
    "from sklearn.datasets import make_regression"
   ]
  },
  {
   "cell_type": "code",
   "execution_count": 2,
   "id": "10cbb50c",
   "metadata": {},
   "outputs": [],
   "source": [
    "#Generate synthetic data\n",
    "x,y=make_regression(n_samples=100,n_features=2,noise=50)\n",
    " "
   ]
  },
  {
   "cell_type": "code",
   "execution_count": 3,
   "id": "68b15c86",
   "metadata": {},
   "outputs": [],
   "source": [
    "#K-Fold Cross-Validation\n",
    "kf=KFold(n_splits=5,shuffle=True,random_state=42)\n",
    "model=LinearRegression()"
   ]
  },
  {
   "cell_type": "code",
   "execution_count": 4,
   "id": "03d7603c",
   "metadata": {},
   "outputs": [
    {
     "name": "stdout",
     "output_type": "stream",
     "text": [
      "Cross-validation: [0.51314946 0.30250979 0.56663113 0.67660427 0.73280069]\n",
      "Average score: 0.558339069056579\n"
     ]
    }
   ],
   "source": [
    "#Perform cross-validation\n",
    "scores=cross_val_score(model,x,y,cv=kf,scoring='r2')\n",
    "print(\"Cross-validation:\",scores)\n",
    "print(\"Average score:\",scores.mean())"
   ]
  },
  {
   "cell_type": "code",
   "execution_count": null,
   "id": "9c9139d2",
   "metadata": {},
   "outputs": [],
   "source": []
  }
 ],
 "metadata": {
  "kernelspec": {
   "display_name": "Python 3 (ipykernel)",
   "language": "python",
   "name": "python3"
  },
  "language_info": {
   "codemirror_mode": {
    "name": "ipython",
    "version": 3
   },
   "file_extension": ".py",
   "mimetype": "text/x-python",
   "name": "python",
   "nbconvert_exporter": "python",
   "pygments_lexer": "ipython3",
   "version": "3.11.5"
  }
 },
 "nbformat": 4,
 "nbformat_minor": 5
}
