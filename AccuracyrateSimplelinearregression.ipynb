{
 "cells": [
  {
   "cell_type": "markdown",
   "id": "277af9f1",
   "metadata": {},
   "source": [
    "##Equation for simple linear regrssion##"
   ]
  },
  {
   "cell_type": "code",
   "execution_count": 79,
   "id": "5200ddbf",
   "metadata": {
    "scrolled": true
   },
   "outputs": [
    {
     "name": "stdout",
     "output_type": "stream",
     "text": [
      "0.4\n",
      "2.4\n"
     ]
    }
   ],
   "source": [
    "del sum\n",
    "x=[1,2,3,4,5]\n",
    "y=[3,4,2,4,5]\n",
    "x_sum=sum(x)\n",
    "y_sum=sum(y)\n",
    "xmean=x_sum/len(x)\n",
    "ymean=y_sum/len(y)\n",
    "xp=0\n",
    "xps=0\n",
    "for i in range(len(x)):\n",
    "    xp=(x[i]-xmean)*(y[i]-ymean)+xp\n",
    "    xps=(x[i]-xmean)**2+xps\n",
    "\n",
    "m=xp/xps\n",
    "print(m)\n",
    "c=ymean-m*xmean\n",
    "print(c)\n"
   ]
  },
  {
   "cell_type": "code",
   "execution_count": 80,
   "id": "eb47eca6",
   "metadata": {},
   "outputs": [
    {
     "name": "stdout",
     "output_type": "stream",
     "text": [
      "Predicted values for all x: [2.8, 3.2, 3.6, 4.0, 4.4]\n"
     ]
    }
   ],
   "source": [
    "\n",
    "yp=[]\n",
    "for i in range(len(x)):\n",
    "    yp.append(m*x[i]+c) \n",
    "       \n",
    "print(\"Predicted values for all x:\",yp)"
   ]
  },
  {
   "cell_type": "code",
   "execution_count": 82,
   "id": "5f0385e2",
   "metadata": {},
   "outputs": [
    {
     "name": "stdout",
     "output_type": "stream",
     "text": [
      "1.6000000000000008\n",
      "5.2\n",
      "Error rate: 0.3076923076923078\n",
      "Accuracy rate: 0.6923076923076922\n"
     ]
    }
   ],
   "source": [
    "ypsum=0\n",
    "n_sum=0\n",
    "for i in range(len(yp)):\n",
    "    ypsum=ypsum+(yp[i]-ymean)**2\n",
    "for i in range(len(y)):\n",
    "    n_sum=n_sum+(y[i]-ymean)**2\n",
    "r2=ypsum/n_sum  ## Error rate\n",
    "print(ypsum)\n",
    "print(n_sum)\n",
    "print(\"Error rate:\",r2)\n",
    "print(\"Accuracy rate:\",1-r2) # accuracy rate"
   ]
  },
  {
   "cell_type": "code",
   "execution_count": null,
   "id": "75f015b5",
   "metadata": {},
   "outputs": [],
   "source": []
  },
  {
   "cell_type": "code",
   "execution_count": null,
   "id": "e59751b9",
   "metadata": {},
   "outputs": [],
   "source": []
  }
 ],
 "metadata": {
  "kernelspec": {
   "display_name": "Python 3 (ipykernel)",
   "language": "python",
   "name": "python3"
  },
  "language_info": {
   "codemirror_mode": {
    "name": "ipython",
    "version": 3
   },
   "file_extension": ".py",
   "mimetype": "text/x-python",
   "name": "python",
   "nbconvert_exporter": "python",
   "pygments_lexer": "ipython3",
   "version": "3.11.5"
  }
 },
 "nbformat": 4,
 "nbformat_minor": 5
}
